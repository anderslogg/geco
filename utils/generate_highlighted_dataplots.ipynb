{
 "cells": [
  {
   "cell_type": "code",
   "execution_count": null,
   "metadata": {
    "collapsed": true
   },
   "outputs": [],
   "source": [
    "# jupyter notebook for generating 'highlighted' data plots used in combined 2d-frames. "
   ]
  },
  {
   "cell_type": "code",
   "execution_count": 1,
   "metadata": {},
   "outputs": [],
   "source": [
    "import os, glob\n",
    "import sys\n",
    "from matplotlib import pyplot as plt\n",
    "import numpy as np\n",
    "import matplotlib.image as mpimg\n",
    "from PIL import Image\n",
    "#matplotlib.rcParams['figure.figsize'] = (20.0, 10.0)\n",
    "lib_dir=\"/Users/elleryames/Research/projects/projectgeco/geco/geco/\"\n",
    "module_path = os.path.abspath(os.path.join(lib_dir))\n",
    "if module_path not in sys.path:\n",
    "    sys.path.append(module_path)   \n",
    "import gecoplotlib as gpl\n",
    "\n",
    "plt.rcParams['figure.figsize'] = (20.0, 10.0)\n",
    "       "
   ]
  },
  {
   "cell_type": "code",
   "execution_count": 2,
   "metadata": {
    "collapsed": true
   },
   "outputs": [],
   "source": [
    "# Get data plot and highlight a point on it\n",
    "run_dir = '/Users/elleryames/Research/projects/projectgeco/geon/paper_data/tss_L08_anderson3'\n",
    "save_dir = run_dir + '/adaptive_solver/visualization/highlighted-dataplots'\n",
    "data_files = []\n",
    "data_files.append(glob.glob(run_dir + '/adaptive_solver/step*' + '/ppdata.csv'))\n",
    "data_files=[dfile for sub_list in data_files for dfile in sub_list]"
   ]
  },
  {
   "cell_type": "code",
   "execution_count": 3,
   "metadata": {
    "collapsed": true
   },
   "outputs": [],
   "source": [
    "# Save highlighted data plot for each step\n",
    "for i in range(len(data_files)):      \n",
    "        # Generate plot of data sequence    \n",
    "        print(\"generating figure {:02}\".format(i))\n",
    "        plt.clf()\n",
    "        data_plot = gpl.geco_pp_plot([data_files], 'zamo_redshift_peak', 'mass_aspect_max', legend_labels ='empty', savefig=False)\n",
    "    \n",
    "        # Get and plot highlighted run\n",
    "        cur_sol_data = run_dir + '/adaptive_solver/step_0{:02}/ppdata.csv'.format(i)\n",
    "        gpl.highlight_point(data_plot, cur_sol_data, 'zamo_redshift_peak', 'mass_aspect_max', hmarker='*')\n",
    "\n",
    "        #data_plot.show()\n",
    "        data_plot.savefig(save_dir + '/highlighted_data_0{:02}.jpg'.format(i), dpi=500, bbox_inches='tight')\n"
   ]
  },
  {
   "cell_type": "code",
   "execution_count": null,
   "metadata": {
    "collapsed": true
   },
   "outputs": [],
   "source": []
  }
 ],
 "metadata": {
  "kernelspec": {
   "display_name": "Python 3",
   "language": "python",
   "name": "python3"
  },
  "language_info": {
   "codemirror_mode": {
    "name": "ipython",
    "version": 3
   },
   "file_extension": ".py",
   "mimetype": "text/x-python",
   "name": "python",
   "nbconvert_exporter": "python",
   "pygments_lexer": "ipython3",
   "version": "3.6.1"
  }
 },
 "nbformat": 4,
 "nbformat_minor": 2
}
