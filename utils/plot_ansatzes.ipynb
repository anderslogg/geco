{
 "cells": [
  {
   "cell_type": "code",
   "execution_count": 1,
   "metadata": {},
   "outputs": [],
   "source": [
    "import numpy as np\n",
    "import matplotlib.pyplot as plt\n",
    "from mpl_toolkits import mplot3d\n",
    "import ipywidgets as widgets\n"
   ]
  },
  {
   "cell_type": "code",
   "execution_count": 2,
   "metadata": {
    "scrolled": false
   },
   "outputs": [],
   "source": [
    "def polytropic(k=0.0,l=0.0,L0=1.0,E0=-0.05):\n",
    "    E = np.outer(np.linspace(-2, 2, 30), np.ones(30))\n",
    "    Lz = E.copy().T\n",
    "\n",
    "    phi_E = (E0-E)**k\n",
    "    psi_Lz = (abs(Lz) - L0)**l\n",
    "\n",
    "    ans = phi_E * psi_Lz\n",
    "    \n",
    "    plotter(E, Lz, ans)\n"
   ]
  },
  {
   "cell_type": "code",
   "execution_count": 3,
   "metadata": {},
   "outputs": [],
   "source": [
    "def gaussian(k=0.0,pm=1.0,L0=1.0,E0=-0.05):\n",
    "    E = np.outer(np.linspace(-2, 2, 30), np.ones(30))\n",
    "    Lz = E.copy().T\n",
    "\n",
    "    phi_E = (E0-E)**k\n",
    "    psi_Lz = 1/L0 * np.exp(pm * (Lz/L0)**2)\n",
    "\n",
    "    ans = phi_E * psi_Lz\n",
    "    \n",
    "    plotter(E, Lz, ans)\n"
   ]
  },
  {
   "cell_type": "code",
   "execution_count": 7,
   "metadata": {},
   "outputs": [],
   "source": [
    "def plotter(E,Lz, ans):\n",
    "    fig = plt.figure(figsize=(10,10))\n",
    "    ax = plt.axes(projection='3d')\n",
    "\n",
    "    ax.plot_surface(E, Lz, ans,cmap='viridis', edgecolor='none')\n",
    "    ax.set_title('Surface plot')\n",
    "    plt.show()"
   ]
  },
  {
   "cell_type": "code",
   "execution_count": 8,
   "metadata": {},
   "outputs": [
    {
     "data": {
      "application/vnd.jupyter.widget-view+json": {
       "model_id": "9fccbecc381249b39aef1bf0d02e5aec",
       "version_major": 2,
       "version_minor": 0
      },
      "text/plain": [
       "interactive(children=(IntSlider(value=0, description='k', max=10, min=-10), IntSlider(value=0, description='l'…"
      ]
     },
     "metadata": {},
     "output_type": "display_data"
    },
    {
     "data": {
      "text/plain": [
       "<function __main__.polytropic(k=0.0, l=0.0, L0=1.0, E0=-0.05)>"
      ]
     },
     "execution_count": 8,
     "metadata": {},
     "output_type": "execute_result"
    }
   ],
   "source": [
    "widgets.interact(polytropic, k=(-10,10,1), l=(-10,10,1), L0=(0,10,0.5),E0=(-0.1,-0.01,0.01))"
   ]
  },
  {
   "cell_type": "code",
   "execution_count": 9,
   "metadata": {},
   "outputs": [
    {
     "data": {
      "application/vnd.jupyter.widget-view+json": {
       "model_id": "c68bfb641313410c8e5864a782afd53b",
       "version_major": 2,
       "version_minor": 0
      },
      "text/plain": [
       "interactive(children=(IntSlider(value=0, description='k', max=10, min=-10), IntSlider(value=1, description='pm…"
      ]
     },
     "metadata": {},
     "output_type": "display_data"
    },
    {
     "data": {
      "text/plain": [
       "<function __main__.gaussian(k=0.0, pm=1.0, L0=1.0, E0=-0.05)>"
      ]
     },
     "execution_count": 9,
     "metadata": {},
     "output_type": "execute_result"
    }
   ],
   "source": [
    "widgets.interact(gaussian, k=(-10,10,1), pm=(-10,10,1), L0=(0,10,0.5),E0=(-0.1,-0.01,0.01))"
   ]
  }
 ],
 "metadata": {
  "kernelspec": {
   "display_name": "Python 3",
   "language": "python",
   "name": "python3"
  },
  "language_info": {
   "codemirror_mode": {
    "name": "ipython",
    "version": 3
   },
   "file_extension": ".py",
   "mimetype": "text/x-python",
   "name": "python",
   "nbconvert_exporter": "python",
   "pygments_lexer": "ipython3",
   "version": "3.8.3"
  }
 },
 "nbformat": 4,
 "nbformat_minor": 4
}
